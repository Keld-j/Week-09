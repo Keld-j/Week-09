{
  "nbformat": 4,
  "nbformat_minor": 0,
  "metadata": {
    "kernelspec": {
      "display_name": "Python 3",
      "language": "python",
      "name": "python3"
    },
    "language_info": {
      "codemirror_mode": {
        "name": "ipython",
        "version": 3
      },
      "file_extension": ".py",
      "mimetype": "text/x-python",
      "name": "python",
      "nbconvert_exporter": "python",
      "pygments_lexer": "ipython3",
      "version": "3.7.4"
    },
    "colab": {
      "name": "cartpole.ipynb",
      "provenance": [],
      "collapsed_sections": []
    }
  },
  "cells": [
    {
      "cell_type": "markdown",
      "metadata": {
        "id": "Kt5Vx0zdzOSQ",
        "colab_type": "text"
      },
      "source": [
        "# A Deep Q Neural Network tackles an inverted pendulum\n",
        "![Moving around](https://www.cds.caltech.edu/~murray/wiki/images/c/c8/Anim_pend.gif)"
      ]
    },
    {
      "cell_type": "markdown",
      "metadata": {
        "id": "Qx-yyNA1-nLG",
        "colab_type": "text"
      },
      "source": [
        "For dynamical systems, stability is perhaps the most important thing we want to make sure. There are lots of different definitions of stability depending on different contexts. Roughly speaking, it means that the state of a dynamical system is always near some point (the equilibrium point). \n",
        "\n",
        "Let's take the inverted pendulum for an example - the controller you shall design has to make sure that the pendulum never falls down.\n",
        "\n",
        "For this we use train a Deep Q Neural Network instead of doing the actual maths behind the problem (Lagrange's Equations). For more you information you can look [here](https://en.wikipedia.org/wiki/Inverted_pendulum)."
      ]
    },
    {
      "cell_type": "markdown",
      "metadata": {
        "id": "b3ZLQYZL_xVr",
        "colab_type": "text"
      },
      "source": [
        "#Coding\n",
        "We start by importing the required dependencies."
      ]
    },
    {
      "cell_type": "code",
      "metadata": {
        "id": "q7DlQkagzOSS",
        "colab_type": "code",
        "colab": {}
      },
      "source": [
        "import warnings\n",
        "warnings.filterwarnings('ignore')\n",
        "\n",
        "import gym\n",
        "import random\n",
        "import numpy as np\n",
        "from collections import deque\n",
        "from keras.layers import Dense\n",
        "from keras.models import Sequential\n",
        "from keras.optimizers import Adam\n",
        "import matplotlib.pyplot as plt"
      ],
      "execution_count": 0,
      "outputs": []
    },
    {
      "cell_type": "markdown",
      "metadata": {
        "id": "FNKdi6eN_4m3",
        "colab_type": "text"
      },
      "source": [
        "Next we set up the required environment for our model."
      ]
    },
    {
      "cell_type": "code",
      "metadata": {
        "id": "Pukk_aIYzOSV",
        "colab_type": "code",
        "colab": {}
      },
      "source": [
        "env = gym.make('CartPole-v1')\n",
        "state_size = env.observation_space.shape[0]\n",
        "action_size = env.action_space.n\n",
        "\n",
        "# Seed\n",
        "seed = 5\n",
        "env.seed(seed)\n",
        "random.seed(seed)\n",
        "np.random.seed(seed)"
      ],
      "execution_count": 0,
      "outputs": []
    },
    {
      "cell_type": "markdown",
      "metadata": {
        "id": "lTyV7NcSAAv_",
        "colab_type": "text"
      },
      "source": [
        "Now we set our training parameters, which have been found through trial-and-error."
      ]
    },
    {
      "cell_type": "code",
      "metadata": {
        "id": "-poCX1svzOSX",
        "colab_type": "code",
        "colab": {}
      },
      "source": [
        "# Training parameterss\n",
        "discount_factor = 0.99\n",
        "epsilon_decay = 0.995\n",
        "epsilon_min = 0.01\n",
        "batch_size = 32\n",
        "train_start = 1000\n",
        "memory_size = 10000\n",
        "n_episodes = 2000\n",
        "n_win_ticks = 195\n",
        "n_avg_scores = 100\n",
        "render = False"
      ],
      "execution_count": 0,
      "outputs": []
    },
    {
      "cell_type": "markdown",
      "metadata": {
        "id": "TQS4cD8yAKeT",
        "colab_type": "text"
      },
      "source": [
        "Normally this following would be in a file for itself, but since this function does not work in google colab, we have pasted the code, that defvines our Mish(Activion) class."
      ]
    },
    {
      "cell_type": "code",
      "metadata": {
        "id": "ka-8zspCz17m",
        "colab_type": "code",
        "colab": {}
      },
      "source": [
        "# Import Necessary Modules.\n",
        "from __future__ import absolute_import\n",
        "from __future__ import division\n",
        "from __future__ import print_function\n",
        "from keras.layers import Activation\n",
        "from keras.utils.generic_utils import get_custom_objects\n",
        "import keras.backend as K\n",
        "\n",
        "\n",
        "class Mish(Activation):\n",
        "  '''\n",
        "  Mish Activation Function.\n",
        "\n",
        "  .. math::\n",
        "\n",
        "      mish(x) = x * tanh(softplus(x)) = x * tanh(ln(1 + e^{x}))\n",
        "\n",
        "  Shape:\n",
        "      - Input: Arbitrary. Use the keyword argument `input_shape`\n",
        "      (tuple of integers, does not include the samples axis)\n",
        "      when using this layer as the first layer in a model.\n",
        "\n",
        "      - Output: Same shape as the input.\n",
        "\n",
        "  Examples:\n",
        "      >>> X = Activation('Mish', name=\"conv1_act\")(X_input)\n",
        "  '''\n",
        "\n",
        "  def __init__(self, activation=\"Mish\", **kwargs):\n",
        "    super(Mish, self).__init__(activation, **kwargs)\n",
        "    self.__name__ = 'Mish'\n",
        "\n",
        "\n",
        "def mish(x):\n",
        "  return x*K.tanh(K.softplus(x))\n",
        "\n",
        "\n",
        "get_custom_objects().update({'Mish': Mish(mish)})"
      ],
      "execution_count": 0,
      "outputs": []
    },
    {
      "cell_type": "markdown",
      "metadata": {
        "id": "o2q2_yZPAe0e",
        "colab_type": "text"
      },
      "source": [
        "#Building the model\n",
        "\n",
        "Now we are ready to actually build our model for the system"
      ]
    },
    {
      "cell_type": "code",
      "metadata": {
        "id": "Y-Kr60JvzOSZ",
        "colab_type": "code",
        "colab": {
          "base_uri": "https://localhost:8080/",
          "height": 454
        },
        "outputId": "623f9523-0073-498f-fa43-e7d3b263dd98"
      },
      "source": [
        "def build_model():\n",
        "    model = Sequential()\n",
        "    model.add(Dense(96, input_dim=state_size, kernel_initializer='he_uniform'))\n",
        "    model.add(Mish())\n",
        "    model.add(Dense(48, kernel_initializer='he_uniform'))\n",
        "    model.add(Mish())\n",
        "    model.add(Dense(24, kernel_initializer='he_uniform'))\n",
        "    model.add(Mish())\n",
        "    model.add(Dense(action_size, kernel_initializer='he_uniform'))\n",
        "    model.compile(Adam(lr=0.001), loss='mse')\n",
        "    return model\n",
        "\n",
        "model = build_model()\n",
        "target_model = build_model()\n",
        "\n",
        "model.summary()"
      ],
      "execution_count": 7,
      "outputs": [
        {
          "output_type": "stream",
          "text": [
            "WARNING:tensorflow:From /usr/local/lib/python3.6/dist-packages/keras/optimizers.py:793: The name tf.train.Optimizer is deprecated. Please use tf.compat.v1.train.Optimizer instead.\n",
            "\n",
            "Model: \"sequential_2\"\n",
            "_________________________________________________________________\n",
            "Layer (type)                 Output Shape              Param #   \n",
            "=================================================================\n",
            "dense_2 (Dense)              (None, 96)                480       \n",
            "_________________________________________________________________\n",
            "mish_2 (Mish)                (None, 96)                0         \n",
            "_________________________________________________________________\n",
            "dense_3 (Dense)              (None, 48)                4656      \n",
            "_________________________________________________________________\n",
            "mish_3 (Mish)                (None, 48)                0         \n",
            "_________________________________________________________________\n",
            "dense_4 (Dense)              (None, 24)                1176      \n",
            "_________________________________________________________________\n",
            "mish_4 (Mish)                (None, 24)                0         \n",
            "_________________________________________________________________\n",
            "dense_5 (Dense)              (None, 2)                 50        \n",
            "=================================================================\n",
            "Total params: 6,362\n",
            "Trainable params: 6,362\n",
            "Non-trainable params: 0\n",
            "_________________________________________________________________\n"
          ],
          "name": "stdout"
        }
      ]
    },
    {
      "cell_type": "markdown",
      "metadata": {
        "id": "zg3R2pdSAkkp",
        "colab_type": "text"
      },
      "source": [
        "Now we define some training helpers."
      ]
    },
    {
      "cell_type": "code",
      "metadata": {
        "id": "JT4ieinazOSi",
        "colab_type": "code",
        "colab": {}
      },
      "source": [
        "# Training helpers\n",
        "# Source: https://github.com/yanpanlau/CartPole/blob/master/DQN/CartPole_DQN.py\n",
        "def update_target_model():\n",
        "    target_model.set_weights(model.get_weights())\n",
        "\n",
        "def get_action(state, epsilon):\n",
        "    return np.random.randint(action_size) if np.random.rand() <= epsilon else np.argmax(model.predict(state)[0])\n",
        "\n",
        "def train_replay():\n",
        "    if len(memory) < train_start:\n",
        "        return\n",
        "    minibatch = random.sample(memory,  min(batch_size, len(memory)))\n",
        "    state_t, action_t, reward_t, state_t1, terminal = zip(*minibatch)\n",
        "    state_t = np.concatenate(state_t)\n",
        "    state_t1 = np.concatenate(state_t1)\n",
        "    targets = model.predict(state_t)\n",
        "    Q_sa = target_model.predict(state_t1)\n",
        "    targets[range(batch_size), action_t] = reward_t + discount_factor * np.max(Q_sa, axis=1) * np.invert(terminal)\n",
        "    model.train_on_batch(state_t, targets)"
      ],
      "execution_count": 0,
      "outputs": []
    },
    {
      "cell_type": "code",
      "metadata": {
        "id": "Vwvpa6KMzOSo",
        "colab_type": "code",
        "colab": {
          "base_uri": "https://localhost:8080/",
          "height": 1000
        },
        "outputId": "48822542-8648-429b-bfc0-3571ba68e728"
      },
      "source": [
        "# Training\n",
        "avg_scores = []\n",
        "all_scores = []\n",
        "scores = deque(maxlen=n_avg_scores)\n",
        "memory = deque(maxlen=memory_size)\n",
        "\n",
        "def learn_to_balance():\n",
        "    epsilon = 1.0 # Start with randomness\n",
        "    has_won = False\n",
        "\n",
        "    for e in range(n_episodes):\n",
        "        done = False\n",
        "        score = 0\n",
        "        state = env.reset()\n",
        "        state = np.reshape(state, [1, state_size])\n",
        "\n",
        "        while not done:\n",
        "            action = get_action(state, epsilon)\n",
        "            next_state, reward, done, info = env.step(action)\n",
        "            next_state = np.reshape(next_state, [1, state_size])\n",
        "\n",
        "            memory.append((state, action, reward if not done else -100, next_state, done))\n",
        "            if epsilon > epsilon_min:\n",
        "                epsilon *= epsilon_decay # Decrease randomness\n",
        "            train_replay()\n",
        "            score += reward\n",
        "            state = next_state\n",
        "            \n",
        "            if render:\n",
        "                env.render()\n",
        "\n",
        "            if done:\n",
        "                env.reset()\n",
        "                update_target_model()\n",
        "                scores.append(score)\n",
        "                all_scores.append(score)\n",
        "                avg_score = np.mean(scores)\n",
        "                avg_scores.append(avg_score)\n",
        "\n",
        "                if not has_won and e >= n_avg_scores and avg_score >= n_win_ticks:\n",
        "                    # Find first score greater than 195 where the average is >= 195 over the following 100 episodes.\n",
        "                    solution_episode_idx = max(next(x[0] for x in enumerate(all_scores) if x[1] >= n_win_ticks), e - n_win_ticks) \n",
        "                    print('Solved after {} tries! \\o/'.format(solution_episode_idx))\n",
        "                    has_won = True\n",
        "\n",
        "                if e % n_avg_scores == 0:\n",
        "                    print('[Episode {}] Average Score: {}'.format(e, avg_score))\n",
        "\n",
        "# Train model\n",
        "# The challenge is solved at episode 3. The mean score remains >= 195 for the following 100 episodes.\n",
        "# A higher score is very likely achievable through hyperparameter optimization and seed exploration.\n",
        "# A better performance metric would span more episodes and cover a range of initial environment seeds.\n",
        "learn_to_balance()\n",
        "\n",
        "# Plot results\n",
        "plt.figure(figsize=(12,6))\n",
        "plt.plot(all_scores, color='blue')\n",
        "plt.plot(avg_scores, color='red')\n",
        "plt.show()"
      ],
      "execution_count": 9,
      "outputs": [
        {
          "output_type": "stream",
          "text": [
            "WARNING:tensorflow:From /usr/local/lib/python3.6/dist-packages/keras/backend/tensorflow_backend.py:190: The name tf.get_default_session is deprecated. Please use tf.compat.v1.get_default_session instead.\n",
            "\n",
            "WARNING:tensorflow:From /usr/local/lib/python3.6/dist-packages/keras/backend/tensorflow_backend.py:197: The name tf.ConfigProto is deprecated. Please use tf.compat.v1.ConfigProto instead.\n",
            "\n",
            "WARNING:tensorflow:From /usr/local/lib/python3.6/dist-packages/keras/backend/tensorflow_backend.py:203: The name tf.Session is deprecated. Please use tf.compat.v1.Session instead.\n",
            "\n",
            "WARNING:tensorflow:From /usr/local/lib/python3.6/dist-packages/keras/backend/tensorflow_backend.py:207: The name tf.global_variables is deprecated. Please use tf.compat.v1.global_variables instead.\n",
            "\n",
            "WARNING:tensorflow:From /usr/local/lib/python3.6/dist-packages/keras/backend/tensorflow_backend.py:216: The name tf.is_variable_initialized is deprecated. Please use tf.compat.v1.is_variable_initialized instead.\n",
            "\n",
            "WARNING:tensorflow:From /usr/local/lib/python3.6/dist-packages/keras/backend/tensorflow_backend.py:223: The name tf.variables_initializer is deprecated. Please use tf.compat.v1.variables_initializer instead.\n",
            "\n",
            "[Episode 0] Average Score: 15.0\n",
            "WARNING:tensorflow:From /usr/local/lib/python3.6/dist-packages/keras/backend/tensorflow_backend.py:1033: The name tf.assign_add is deprecated. Please use tf.compat.v1.assign_add instead.\n",
            "\n",
            "WARNING:tensorflow:From /usr/local/lib/python3.6/dist-packages/keras/backend/tensorflow_backend.py:1020: The name tf.assign is deprecated. Please use tf.compat.v1.assign instead.\n",
            "\n",
            "Solved after 3 tries! \\o/\n",
            "[Episode 100] Average Score: 211.44\n",
            "[Episode 200] Average Score: 422.64\n",
            "[Episode 300] Average Score: 398.58\n",
            "[Episode 400] Average Score: 440.88\n",
            "[Episode 500] Average Score: 331.09\n",
            "[Episode 600] Average Score: 388.54\n",
            "[Episode 700] Average Score: 454.31\n",
            "[Episode 800] Average Score: 466.63\n",
            "[Episode 900] Average Score: 492.39\n",
            "[Episode 1000] Average Score: 453.72\n",
            "[Episode 1100] Average Score: 467.53\n",
            "[Episode 1200] Average Score: 366.75\n",
            "[Episode 1300] Average Score: 454.98\n",
            "[Episode 1400] Average Score: 383.16\n",
            "[Episode 1500] Average Score: 426.7\n",
            "[Episode 1600] Average Score: 413.15\n",
            "[Episode 1700] Average Score: 460.67\n",
            "[Episode 1800] Average Score: 367.68\n",
            "[Episode 1900] Average Score: 474.59\n"
          ],
          "name": "stdout"
        },
        {
          "output_type": "display_data",
          "data": {
            "image/png": "[encoded data removed]",
            "text/plain": [
              "<Figure size 864x432 with 1 Axes>"
            ]
          },
          "metadata": {
            "tags": []
          }
        }
      ]
    },
    {
      "cell_type": "code",
      "metadata": {
        "id": "xoMMFB_zzOSv",
        "colab_type": "code",
        "colab": {}
      },
      "source": [
        ""
      ],
      "execution_count": 0,
      "outputs": []
    }
  ]
}